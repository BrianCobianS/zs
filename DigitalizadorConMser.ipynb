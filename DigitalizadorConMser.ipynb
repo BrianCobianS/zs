{
 "cells": [
  {
   "cell_type": "markdown",
   "metadata": {},
   "source": [
    "# digitalizador intento 2"
   ]
  },
  {
   "cell_type": "code",
   "execution_count": null,
   "metadata": {},
   "outputs": [],
   "source": [
    "import os\n",
    "import cv2 as cv\n",
    "import numpy as np\n",
    "import matplotlib.pyplot as plt"
   ]
  },
  {
   "cell_type": "code",
   "execution_count": null,
   "metadata": {},
   "outputs": [],
   "source": [
    "mser = cv.MSER_create(_delta=8, _min_diversity=0.1)\n",
    "img = cv.imread(os.path.join('data',r\"C:\\Users\\Vostro\\Downloads\\IMG_20221014_125929.jpg\"))\n",
    "orig = img.copy()\n",
    "gray = cv.cvtColor(img, cv.COLOR_BGR2GRAY)"
   ]
  },
  {
   "cell_type": "code",
   "execution_count": null,
   "metadata": {},
   "outputs": [],
   "source": [
    "regions, boxes = mser.detectRegions(gray)  \n",
    "hulls = [cv.convexHull(p.reshape(-1, 1, 2)) for p in regions]\n",
    "cv.polylines(img, hulls, 1, (0, 255, 0))\n"
   ]
  },
  {
   "cell_type": "code",
   "execution_count": null,
   "metadata": {},
   "outputs": [],
   "source": [
    "mask = np.zeros((img.shape[0], img.shape[1], 1), dtype=np.uint8)\n",
    "\n",
    "hulls = [cv.convexHull(pixels.reshape(-1, 1, 2)) for pixels in regions]\n",
    "img_only = cv.bitwise_and(img, img, mask=mask)\n",
    "# Plotar a imagem original e com a convexhull\n",
    "imagem_total = cv.hconcat([cv.cvtColor(img, cv.COLOR_BGR2RGB), cv.cvtColor(img_only, cv2.COLOR_BGR2RGB)])\n",
    "plt.axis('off')\n",
    "plt.imshow(imagem_total)\n",
    "plt.show(block=False)\n",
    "plt.draw()"
   ]
  }
 ],
 "metadata": {
  "kernelspec": {
   "display_name": "Python 3.9.13 ('digitalizador')",
   "language": "python",
   "name": "python3"
  },
  "language_info": {
   "name": "python",
   "version": "3.9.13"
  },
  "orig_nbformat": 4,
  "vscode": {
   "interpreter": {
    "hash": "d997fab9e239594cc8e81e7263d1e7e1c9bb5d6eb2c6c06d025abbeeb034d966"
   }
  }
 },
 "nbformat": 4,
 "nbformat_minor": 2
}
